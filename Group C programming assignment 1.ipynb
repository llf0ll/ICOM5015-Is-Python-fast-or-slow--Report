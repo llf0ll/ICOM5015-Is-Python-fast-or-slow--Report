{
 "cells": [
  {
   "cell_type": "code",
   "execution_count": 22,
   "id": "e52ed4d7",
   "metadata": {},
   "outputs": [
    {
     "data": {
      "text/html": [
       "<img src=\"https://drive.google.com/uc?export=download&id=1JjWA_wz0nr4PrBdELyuassqP7ijgRHEQ\"/>"
      ],
      "text/plain": [
       "<IPython.core.display.Image object>"
      ]
     },
     "execution_count": 22,
     "metadata": {},
     "output_type": "execute_result"
    }
   ],
   "source": [
    "from IPython.display import Image\n",
    "Image(url='https://drive.google.com/uc?export=download&id=1JjWA_wz0nr4PrBdELyuassqP7ijgRHEQ')"
   ]
  },
  {
   "cell_type": "markdown",
   "id": "f6e632d8",
   "metadata": {},
   "source": [
    "# I. INTRODUCCIÓN\n",
    "\n",
    "En este trabajo se presenta un estudio numérico con el proposito de visualizar la importancia de las librerías proporcionadas por Python. Python es un lenguaje de programación de alto nivel creado a finales de la década de  los ochenta por Guido Van Rossum y lanzado en 1991. Este lenguaje es usado ampliamente en el desarrollo de paginas web, la computación científica, el análisis de datos, la inteligencia artificial, etc. A diferencia de otros lenguajes como Java o la plataforma .NET, este es un lenguaje interpretado, es decir, que no es necesario compilarlo para ejecutar las aplicaciones escritas en Python, sino que se ejecutan directamente por el ordenador utilizando un programa denominado interpretador, por lo que no es necesario “traducirlo” a lenguaje máquina [[1]](https://www.becas-santander.com/es/blog/python-que-es.html). La popularidad de Python a ido creciendo en las distintas comunidades en los ultimos años, esto debido principalmente al libre acceso a su enorme cantidad de librerías. Según una encuesta realizada a 2000 participantes en el 2018 por KDNuggets [[2]](https://www.kdnuggets.com/), en la categoría \"Top Analytics, Data Science, Machine Learning Tools\", se encontró que el 65.2% preferia Python. Asi mismo, las librerías más usadas de este lenguaje de programacion en la ciencia de datos son el *NumPy* y el *SciPy*. Esto debido a su rápido y eficiente cálculo vectorial [[3]](https://ieeexplore-ieee-org.uprm.idm.oclc.org/document/8757088).  \n",
    "\n",
    "\n",
    "\n",
    "## Pregunta clave o hipótesis\n",
    "Dado que las librerías de Python han sido desarrolladas por expertos en programación y además se han optimizado desde su creación para trabajar con tareas complejas y generales, como usuario, es natural pensar que es más recomendable hacer uso de ellas al momento realizar una implementación. \n",
    "\n",
    "Por tal razón en este trabajo planteamos la siguiente hipótesis: Las funciones proporcionadas al usuario por las librerías de Phyton son más eficientes que las implementaciones propias realizadas sobre él.\n",
    "\n",
    "## Validación de la hipótesis\n",
    "\n",
    "Para validar nuestra hipótesis se realizó la implementación de funciones que calculan la multiplicación de arreglos en 1D y 2D. Para dicha multiplicación se consideraron dos enfoques, el primero consiste en hacer el cálculo mediante un proceso iterativo, mientras que el segundo consiste en aprovechar las herramientas que ofrece Python. Estas herramientas específicamente son las funciones \"dot\" y \"matmul\" de NumPy las cuales han sido optimizadas para realizar operaciones con matrices de cualquier dimensión.\n",
    "\n",
    "\n",
    "\n"
   ]
  },
  {
   "cell_type": "markdown",
   "id": "c9c07d17",
   "metadata": {},
   "source": [
    "# II. MULTIPLICACIÓN DE MANERA ITERATIVA\n",
    "\n",
    "\n",
    "\n",
    "## A. Arreglos de 1D\n",
    "\n",
    "El producto punto o escalar de dos vectores es una operación algebraica que produce como resultado un escalar. Para realizar dicha multiplicación, los vectores deben tener la siguiente forma:\n",
    "$$ x = (x_1,x_2,...,x_n)^T\\qquad\\mbox{y}\\qquad y = (y_1,y_2,...,y_m)^T $$\n",
    "Donde $ m = n $ para poder realizar la multiplicacion.\n",
    "\n",
    "El producto punto se define de la siguiente manera:\n",
    "$$ \\langle x,y\\rangle = \\sum_{i=1}^n x_i*y_i$$\n",
    "\n",
    "La siguiente función calcula la multiplicación de dos vectores de 1D, esta función recibe dos vectores como entrada y como resultado devuelve un numero escalar. Para que el producto se pueda efectuar, primero se verifica que la longitud de ambos arreglos sea la misma para posteriormente calcular de manera iterativa la sumatoria planteada.\n",
    "\n",
    "Suponiendo que la longitud de los vectores es $n$, el ciclo **\"for\"** de la iteración realizará $n$ multiplicaciones y sumas, por lo tanto la complejidad aritmética del código es $\\mathcal{O}(n)$."
   ]
  },
  {
   "cell_type": "code",
   "execution_count": 3,
   "id": "fa558329",
   "metadata": {},
   "outputs": [],
   "source": [
    "def iterative_dot_product(x,y):\n",
    "    if len(x) != len(y):\n",
    "        return \"Los vectores no tienen la misma dimension\"\n",
    "    \n",
    "    result = 0      \n",
    "    for i in range(len(x)):\n",
    "        result += x[i]*y[i]\n",
    "    return result"
   ]
  },
  {
   "cell_type": "markdown",
   "id": "021639fd",
   "metadata": {},
   "source": [
    "## B. Arreglos de 2D\n",
    "\n",
    "Sean $A$ y $B$ dos matrices, tales que $A\\in\\mathbb{R}^{m\\times n}$ y $B\\in\\mathbb{R}^{n\\times p}$, repectivamente; la multiplicación de $A$ por $B$, que se denota por $C:= AB$, es una matriz con $m$ filas y $p$ columnas.\n",
    "\n",
    "La $(i,j)$-ésima entrada de la matriz $C := AB$ se calcula multiplicando la $i$-ésima fila de $A$ y la $j$-ésima columna $B$,\n",
    "$$\n",
    "c_{ij} =\n",
    "\\begin{pmatrix}\n",
    "    a_{i 1} & \\cdots & a_{i n} \n",
    "\\end{pmatrix} \n",
    "*\n",
    "\\begin{pmatrix}\n",
    "    b_{1 j} \\\\\n",
    "    \\vdots \\\\\n",
    "    b_{m j} \n",
    "\\end{pmatrix} \n",
    "=\n",
    "\\sum_{k=1}^n a_{ik}b_{kj}$$\n",
    "es decir:\n",
    "\n",
    "$$\n",
    "\\begin{align}\n",
    "C &= \n",
    "\\begin{pmatrix}\n",
    "    a_{1 1} & \\cdots & a_{1 n} \\\\\n",
    "    \\vdots & \\ddots & \\vdots \\\\\n",
    "    a_{m 1} & \\cdots & a_{m n}\n",
    "\\end{pmatrix} \n",
    "\\begin{pmatrix}\n",
    "    b_{1 1} & \\cdots & b_{1 p} \\\\\n",
    "    \\vdots & \\ddots & \\vdots \\\\\n",
    "    b_{n 1} & \\cdots & b_{n p}\n",
    "\\end{pmatrix}\\\\ \\\\\n",
    "&=\n",
    "\\begin{pmatrix}\n",
    "    a_{11}b_{11}+ \\cdots +a_{1n}b_{n1} & \\cdots & a_{11}b_{1p}+ \\cdots +a_{1n}b_{np} \\\\\n",
    "    \\vdots & \\ddots & \\vdots \\\\\n",
    "    a_{m1}b_{11}+ \\cdots +a_{mn}b_{n1} & \\cdots & a_{m1}b_{1p}+ \\cdots +a_{mn}b_{np}\n",
    "\\end{pmatrix} \\\\ \\\\\n",
    "&=\n",
    "\\begin{pmatrix}\n",
    "    c_{1 1} & \\cdots & c_{1 n} \\\\\n",
    "    \\vdots & \\ddots & \\vdots \\\\\n",
    "    c_{m 1} & \\cdots & c_{m n}\n",
    "\\end{pmatrix} \n",
    "\\end{align}\n",
    "$$\n",
    "\n",
    "A continuación, se presenta una función iterativa que calcula el producto de dos matrices. Para este proceso, primero se verifica que el número de filas de la primera matriz sea igual al número de columnas de la segunda. Luego a través de un ciclo **\"for\"** se calcula cada entrada de la la matriz resultante, para ello, basando en la definición de la multiplicación de matrices se hace uso de la función previamente implemetada para multiplicar arreglos de 1D. Dado que $A\\in\\mathbb{R}^{m\\times n}$ y $B\\in\\mathbb{R}^{n\\times p}$ este código calcula un total de $n*m*p$ multiplicaciones de arreglos de 1D, por lo tanto su complejidad aritmética es de $\\mathcal{O}(n*m*p)$."
   ]
  },
  {
   "cell_type": "code",
   "execution_count": 9,
   "id": "bab6e28f",
   "metadata": {},
   "outputs": [],
   "source": [
    "def iterative_matrix_product(A,B):\n",
    "    \n",
    "    if len(A[0]) != len(B):\n",
    "        return \"La multiplicacion de A*B no es posible\"\n",
    "    \n",
    "    \n",
    "    result = [[0 for j in range(len(B[0]))] for i in range(len(A))] #creando una matriz de 0's de nxp\n",
    "\n",
    "\n",
    "    for i in range(len(A)):\n",
    "        for j in range(len(B[0])):\n",
    "            result[i][j] = iterative_dot_product(A[i],[B[k][j] for k in range(len(B))] )\n",
    "            \n",
    "    return result"
   ]
  },
  {
   "cell_type": "markdown",
   "id": "92b10aff",
   "metadata": {},
   "source": [
    "# III. MULTIPLICACIÓN DE ARREGLOS DE 1D Y 2D USANDO NUMPY\n",
    "\n",
    "El \"numeric Python\" (*NumPy*) es un paquete de Python de código abierto. Este paquete es usado para realizar funciones matemáticas de alto grado. La principal aplicación es en las operaciones con vectores y matrices. Este paquete fue escrito en el lenguaje C. Alguna de las características claves de este paquete se muestran a continuación [[4]](https://ieeexplore-ieee-org.uprm.idm.oclc.org/document/8741475):\n",
    "\n",
    "-NumPy proporciona la poderosa herramienta N-dimensional para operaciones con matrices.\n",
    "\n",
    "-NumPy soporta funciones sofisticadas para realizar tareas reutilizables.\n",
    "\n",
    "-NumPy introduce el paquete básico para el álgebra lineal. Es muy útil para cálculos matemáticos.\n",
    "\n",
    "Para efectos del cálculo de los tiempo de ejecución, se crearon dos funciones, \"numpy_dot_product\" y \"numpy_matrix_product\", las cuales calculan la multiplicación de arreglos en 1D y 2D, respectivamente; usando funciones de la librería NumPy de Python."
   ]
  },
  {
   "cell_type": "markdown",
   "id": "8db90797",
   "metadata": {},
   "source": [
    "## A. Arreglos de 1D\n",
    "\n",
    "La siguiente función calcula la multiplicación de dos vectores usando la herramienta \"dot\" de NumPy\n"
   ]
  },
  {
   "cell_type": "code",
   "execution_count": 6,
   "id": "39cbe901",
   "metadata": {},
   "outputs": [],
   "source": [
    "import numpy as np\n",
    "def numpy_dot_product(x,y):\n",
    "    return np.dot(x,y)"
   ]
  },
  {
   "cell_type": "markdown",
   "id": "4c4425fa",
   "metadata": {},
   "source": [
    "## B. Arreglos de 2D\n",
    "\n",
    "La siguiente función calcula la multiplicación de dos vectores usando la herramienta \"matmul\" de NumPy"
   ]
  },
  {
   "cell_type": "code",
   "execution_count": 10,
   "id": "cdac507a",
   "metadata": {},
   "outputs": [],
   "source": [
    "def numpy_matrix_product(A,B):\n",
    "    return np.matmul(A, B)"
   ]
  },
  {
   "cell_type": "markdown",
   "id": "b3042a91",
   "metadata": {},
   "source": [
    "# IV. VALIDACIÓN\n",
    "Con el objetivo de validar la multiplicación realizada a través de iteraciones se usaron los siguientes vectores y matrices:"
   ]
  },
  {
   "cell_type": "code",
   "execution_count": 7,
   "id": "6a3af78f",
   "metadata": {},
   "outputs": [
    {
     "name": "stdout",
     "output_type": "stream",
     "text": [
      "32\n",
      "32\n",
      "[[19, 22], [43, 50]]\n",
      "[[19 22]\n",
      " [43 50]]\n"
     ]
    }
   ],
   "source": [
    "a1=[1,2,3]\n",
    "a2=[4,5,6]\n",
    "a3=[[1,2],[3,4]]\n",
    "a4=[[5,6],[7,8]]\n",
    "\n",
    "r1=iterative_dot_product(a1,a2)\n",
    "r2=numpy_dot_product(a1,a2)\n",
    "r3=iterative_matrix_product(a3,a4)\n",
    "r4=numpy_matrix_product(a3,a4)\n",
    "\n",
    "print(r1)\n",
    "print(r2)\n",
    "print(r3)\n",
    "print(r4)"
   ]
  },
  {
   "cell_type": "markdown",
   "id": "0b2d017b",
   "metadata": {},
   "source": [
    "Se observa que r1=r2 y r3=r4, por lo que la programacion realizada para el metodo iterativo funciona correctamente."
   ]
  },
  {
   "cell_type": "markdown",
   "id": "10c29b01",
   "metadata": {},
   "source": [
    "# V. RESULTADOS\n",
    "\n",
    "Para realizar los experimentos numéricos se crearon tres funciones auxiliares. Las primeras dos funciones crean arreglos aleatorios de 1D y 2D. La tercera función, nombrada como \"execution_time\", se encarga de calcular el tiempo de ejecución de las funciones que realizan la multiplicación de matrices."
   ]
  },
  {
   "cell_type": "code",
   "execution_count": 27,
   "id": "d7d1f054",
   "metadata": {},
   "outputs": [],
   "source": [
    "import random\n",
    "import time\n",
    "\n",
    "# This functions create 1D and 2D random matrices using the library random\n",
    "\n",
    "def random_array(n):\n",
    "    x = [np.random.randint(-100, 100) for i in range(n)]\n",
    "    y = [np.random.randint(-100, 100) for i in range(n)]\n",
    "    return x,y\n",
    "\n",
    "def random_matrix(n, m):\n",
    "    A = [[np.random.randint(-100, 100) for j in range(m)] for i in range(n)]\n",
    "    B = [[np.random.randint(-100, 100) for j in range(m)] for i in range(m)]\n",
    "    return A,B \n",
    "\n",
    "\n",
    "# Computes the total time of the execution of the algorithms\n",
    "\n",
    "def execution_time(function,*args):\n",
    "    inicial_time = time.time()\n",
    "    matrix_result = function(*args)\n",
    "    final_time = time.time() - inicial_time\n",
    "    return final_time"
   ]
  },
  {
   "cell_type": "markdown",
   "id": "f40d4c03",
   "metadata": {},
   "source": [
    "##  Experimentos para arreglos de 1D\n",
    "\n",
    "Los experimentos numéricos se realizaron con arreglos de dimensiones $2^n$ con $n = 1, 2, ...,15$, las dimensiones se eligieron de esta manera para que sigan un patrón de crecimiento exponencial. Los tiempos de ejecución de las funciones \"iterative_dot_product\" y \"numpy_dot_product\", se almacenaron en los arreglos \"times_iterative_function\" y \"times_numpy_function\", los cuales se imprimieron y graficaron posteriormente. "
   ]
  },
  {
   "cell_type": "code",
   "execution_count": 37,
   "id": "01b551e4",
   "metadata": {
    "scrolled": false
   },
   "outputs": [
    {
     "name": "stdout",
     "output_type": "stream",
     "text": [
      "Dimensión  Función iterativa(s)      Usando NumPy (s)         \n",
      "2          0.000000000000000         0.000000000000000        \n",
      "4          0.000000000000000         0.000000000000000        \n",
      "8          0.000000000000000         0.000000000000000        \n",
      "16         0.000000000000000         0.000000000000000        \n",
      "32         0.000000000000000         0.000000000000000        \n",
      "64         0.000000000000000         0.000000000000000        \n",
      "128        0.000000000000000         0.000988245010376        \n",
      "256        0.000997781753540         0.000000000000000        \n",
      "512        0.001003503799438         0.000000000000000        \n",
      "1024       0.000000000000000         0.000000000000000        \n",
      "2048       0.001029968261719         0.000000000000000        \n",
      "4096       0.000998020172119         0.000000000000000        \n",
      "8192       0.001028060913086         0.000967264175415        \n",
      "16384      0.001971244812012         0.002031326293945        \n",
      "32768      0.002991437911987         0.003989219665527        \n"
     ]
    },
    {
     "data": {
      "image/png": "[encoded data removed]",
      "text/plain": [
       "<Figure size 640x480 with 1 Axes>"
      ]
     },
     "metadata": {},
     "output_type": "display_data"
    }
   ],
   "source": [
    "import numpy as np\n",
    "import time\n",
    "import matplotlib.pyplot as plt\n",
    "\n",
    "# Listas para guardar los tiempos de ejecución y las dimensionalidades de las matrices\n",
    "times_iterative_function = []\n",
    "times_numpy_function = []\n",
    "dims = []\n",
    "\n",
    "# Realizar el experimento para diferentes dimensionalidades de las matrices\n",
    "dimensiones = [2,4,8,16,32,64,128,256,512,1024,2048,4096,8192,16384,32768]\n",
    "for dim in dimensiones:\n",
    "    x, y = random_array(dim)\n",
    "    times_iterative_function.append(execution_time(iterative_dot_product, x, y))\n",
    "    times_numpy_function.append(execution_time(numpy_dot_product,  x,y))\n",
    "    dims.append(dim)    \n",
    "\n",
    "# Tabla de los tiempos de ejecución obtenidos\n",
    "print(\"{:<10} {:<25} {:<25}\".format(\"Dimensión\", \"Función iterativa(s)\", \"Usando NumPy (s)\"))\n",
    "for i in range(len(dims)):\n",
    "    print(\"{:<10} {:<25.15f} {:<25.15f}\".format(dims[i], times_iterative_function[i], times_numpy_function[i]))  \n",
    "    \n",
    "    \n",
    "# Gráfica de los tiempos de ejecución obtenidos\n",
    "plt.plot(dimensiones, times_iterative_function, marker = '*', label='Función iterativa')\n",
    "plt.plot(dimensiones, times_numpy_function, marker = 'x', label='Usando NumPy')\n",
    "plt.xlabel('Dimensión del arreglos de 1D')\n",
    "plt.ylabel('Tiempo de ejecución (s)')\n",
    "plt.legend()\n",
    "plt.show()   "
   ]
  },
  {
   "cell_type": "markdown",
   "id": "31e71d26",
   "metadata": {},
   "source": [
    "## Experimentos para arreglos de 2D\n",
    "\n",
    "Para realizar los experimentos de multiplicación de matrices, sin pérdida de generalidad, se consideraron cuadradas de dimensiones $2^n \\times 2^n$ con $n = 1, 2 ,...,10$. Los tiempos de ejecución de las funciones \"iterative_dot_product\" y \"numpy_dot_product\", se almacenaron en los arreglos \"times_iterative_function\" y \"times_numpy_function\", los cuales luego se imprimieron y graficaron.  "
   ]
  },
  {
   "cell_type": "code",
   "execution_count": 38,
   "id": "8d634e3b",
   "metadata": {
    "scrolled": false
   },
   "outputs": [
    {
     "name": "stdout",
     "output_type": "stream",
     "text": [
      "Dimensión       Función iterativa(s)      Usando NumPy (s)         \n",
      "2               0.000000000000000         0.000000000000000        \n",
      "4               0.000000000000000         0.000000000000000        \n",
      "8               0.000000000000000         0.000000000000000        \n",
      "16              0.001031398773193         0.000000000000000        \n",
      "32              0.005983352661133         0.000000000000000        \n",
      "64              0.046871900558472         0.000999212265015        \n",
      "128             0.340090513229370         0.002009868621826        \n",
      "256             2.742669820785522         0.008991003036499        \n",
      "512             25.083019495010376        0.035904407501221        \n"
     ]
    },
    {
     "data": {
      "image/png": "[encoded data removed]",
      "text/plain": [
       "<Figure size 640x480 with 1 Axes>"
      ]
     },
     "metadata": {},
     "output_type": "display_data"
    }
   ],
   "source": [
    "import matplotlib.pyplot as plt\n",
    "\n",
    "# Listas para guardar los tiempos de ejecución y las dimensionalidades de las matrices\n",
    "times_iterative_function = []\n",
    "times_numpy_function = []\n",
    "dims = []\n",
    "\n",
    "# Realizar el experimento para diferentes dimensionalidades de las matrices\n",
    "dimensiones = [2, 4, 8, 16, 32, 64, 128, 256, 512,1024]\n",
    "for dim in dimensiones:\n",
    "    A, B = random_matrix(dim,dim)\n",
    "    times_iterative_function.append(execution_time(iterative_matrix_product, A, B))\n",
    "    times_numpy_function.append(execution_time(numpy_matrix_product,  A, B))\n",
    "    dims.append(dim)    \n",
    "\n",
    "# Tabla de los tiempos de ejecución obtenidos\n",
    "print(\"{:<15} {:<25} {:<25}\".format(\"Dimensión\", \"Función iterativa(s)\", \"Usando NumPy (s)\"))\n",
    "for i in range(len(dims)):\n",
    "    print(\"{:<15} {:<25.15f} {:<25.15f}\".format(dims[i], times_iterative_function[i], times_numpy_function[i]))  \n",
    "    \n",
    "    \n",
    "# Gráfica de los tiempos de ejecución obtenidos\n",
    "\n",
    "plt.plot(dimensiones, times_iterative_function, marker = '*', label='Función iterativa')\n",
    "plt.plot(dimensiones, times_numpy_function, marker = 'x', label='Usando NumPy')\n",
    "plt.xlabel('Dimensión de los arreglos de 2D ')\n",
    "plt.ylabel('Tiempos de ejecución (s)')\n",
    "plt.legend()\n",
    "plt.show()  "
   ]
  },
  {
   "cell_type": "markdown",
   "id": "4dd5f7cb",
   "metadata": {},
   "source": [
    "# VI. ANÁLISIS\n",
    "\n",
    "Como se puede apreciar en las tablas y gráficas, la funciones que utilizan la librería de Numpy realizan la multiplicación en un menor tiempo en comparación con las implementaciones iterativa y cuando las dimensiones de los arreglos aumentan las diferencias son aún más significativas.\n",
    "\n",
    "La diferencia en el tiempo de ejecución es debido a que NumPy está diseñado especialmente para realizar las operaciones de matrices y su implementación, la cual está realizada en el lenguaje de C, está altamente optimizado para estas operaciones. Por el contrario, la implementación iterativa está escrita en Python, que es un lenguaje de alto nivel que no es tan eficiente como C. \n",
    "\n",
    "El tiempo de ejecución crece con un orden exponencial con las dimensionalidades de las matrices, como podemos ver en el gráfico. Esto se debe a que la cantidad de operaciones que deben realizarse crece en una potencia de $2$ con el tamaño de las matrices.\n",
    "\n",
    "Al comparar el tiempo de ejecución entre arreglos 1D y arreglos 2D, se observa que la función iterativa es más eficiente para el producto en 1D, en cambio la función implementada con NumPy es más rápida para matrices. Esto esta justificado en el hecho, que la implementación iterativa aprovecha que los vectores son matrices en 1D, lo que hace facilita recorrerlos de manera eficiente. Mientras que la implementación optimizada de la multiplicación de matrices de NumPy es más rápida para arreglos más grandes.\n",
    "\n",
    "\n",
    "Al comparar el tiempo de procesamiento entre vectores (arreglos 1-D) y matrices (arreglos 2-D), podemos ver que la implementación iterativa es más rápida para vectores, mientras que la implementación NumPy es más rápida para matrices. Esto se debe a que la implementación iterativa puede aprovechar el hecho de que los vectores son matrices 1-D, lo que hace que sea fácil recorrerlos de manera eficiente.\n",
    "\n",
    "# VII. CONCLUSIONES\n",
    "\n",
    "Basados en el próposito del proyecto y en los experiementos realizados, se obtuvieron las siguientes conclusiones\n",
    "\n",
    "1. El desempeño de las funciones implementadas se ve altamente afectado por el aumento en las dimensiones de los arreglos. \n",
    "\n",
    "2. El uso de implementaciones iterativas para realizar la multiplicación de matrices en Python puede resultar lento para arreglos de dimensiones altas. \n",
    "\n",
    "3. La librería NumPy de Python proporciona algoritmos altamente optimizados para realizar operaciones con de matrices que se implementan en C, lo que los hace mucho más rápidos que la implementación nativa de Python. Esta diferencia de velocidad se vuelve más pronunciada a medida que aumenta el tamaño de las matrices que se multiplican.\n",
    "\n",
    "4. El uso de NumPy puede proporcionar ganancias de rendimiento significativas en tareas de análisis de datos y computación científica que involucran operaciones de matrices.\n",
    "\n",
    "5. Las ganancias de rendimiento de NumPy tienen el costo de un mayor uso de la memoria, lo que puede ser una preocupación cuando se trabaja con grandes conjuntos de datos.\n",
    "\n",
    "6. Al realizar experimentos que involucren operaciones de matriz, es importante seleccionar cuidadosamente los tamaños de matriz apropiados, utilizar métodos de temporización precisos y considerar el impacto de los recursos de hardware y software en el rendimiento.\n",
    "\n",
    "7. Finalmente, este experimento destaca la importancia de usar herramientas y bibliotecas apropiadas para tareas de computación científica, y la importancia de optimizar el código para el rendimiento cuando se trata de grandes conjuntos de datos."
   ]
  },
  {
   "cell_type": "markdown",
   "id": "a83b6951",
   "metadata": {},
   "source": [
    "# VIII. REFERENCIAS\n",
    "\n",
    "[1] Python, “Python: qué es y por qué deberías aprender a utilizarlo” https://www.becas-santander.com/es/blog/python-que-es.html. (accessed: 02.14.2023).\n",
    "\n",
    "[2] KDnuggets, (2019, February 4th), https://www.kdnuggets.com/.\n",
    "\n",
    "[3] I. Stanˇcin and A. Jovi ́c, “An overview and comparison of free python li-\n",
    "braries for data mining and big data analysis,” in 2019 42nd International\n",
    "convention on information and communication technology, electronics\n",
    "and microelectronics (MIPRO). IEEE, 2019, pp. 977–982\n",
    "\n",
    "[4] J. Ranjani, A. Sheela, and K. P. Meena, “Combination of numpy, scipy\n",
    "and matplotlib/pylab-a good alternative methodology to matlab-a com-\n",
    "parative analysis,” in 2019 1st International Conference on Innovations\n",
    "in Information and Communication Technology (ICIICT). IEEE, 2019,\n",
    "pp. 1–5."
   ]
  },
  {
   "cell_type": "code",
   "execution_count": null,
   "id": "d84ce4f4",
   "metadata": {},
   "outputs": [],
   "source": []
  }
 ],
 "metadata": {
  "kernelspec": {
   "display_name": "Python 3 (ipykernel)",
   "language": "python",
   "name": "python3"
  },
  "language_info": {
   "codemirror_mode": {
    "name": "ipython",
    "version": 3
   },
   "file_extension": ".py",
   "mimetype": "text/x-python",
   "name": "python",
   "nbconvert_exporter": "python",
   "pygments_lexer": "ipython3",
   "version": "3.9.13"
  }
 },
 "nbformat": 4,
 "nbformat_minor": 5
}
